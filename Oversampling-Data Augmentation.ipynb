{
 "cells": [
  {
   "cell_type": "code",
   "execution_count": 1,
   "id": "29009305",
   "metadata": {},
   "outputs": [],
   "source": [
    "import os\n",
    "from keras.preprocessing.image import ImageDataGenerator\n",
    "import numpy as np"
   ]
  },
  {
   "cell_type": "code",
   "execution_count": 5,
   "id": "f7e9a330",
   "metadata": {},
   "outputs": [],
   "source": [
    "base_path = 'C:/Users/praveena/Downloads/archive (4)/data/'\n",
    "desert_path = os.path.join(base_path, 'desert')"
   ]
  },
  {
   "cell_type": "code",
   "execution_count": 6,
   "id": "8a8f7895",
   "metadata": {},
   "outputs": [],
   "source": [
    "datagen = ImageDataGenerator(\n",
    "    rotation_range=20,\n",
    "    width_shift_range=0.2,\n",
    "    height_shift_range=0.2,\n",
    "    shear_range=0.15,\n",
    "    zoom_range=0.15,\n",
    "    horizontal_flip=True,\n",
    "    fill_mode='nearest')"
   ]
  },
  {
   "cell_type": "code",
   "execution_count": 7,
   "id": "107e7fcc",
   "metadata": {},
   "outputs": [],
   "source": [
    "img_list = os.listdir(desert_path)"
   ]
  },
  {
   "cell_type": "code",
   "execution_count": 8,
   "id": "ea438faf",
   "metadata": {},
   "outputs": [],
   "source": [
    "imgs = np.zeros((len(img_list), 224, 224, 3), dtype=np.float32)"
   ]
  },
  {
   "cell_type": "code",
   "execution_count": 15,
   "id": "a73297f9",
   "metadata": {},
   "outputs": [],
   "source": [
    "from tensorflow.keras.preprocessing.image import ImageDataGenerator, load_img, img_to_array, array_to_img"
   ]
  },
  {
   "cell_type": "code",
   "execution_count": 11,
   "id": "06bba138",
   "metadata": {},
   "outputs": [],
   "source": [
    "for i, img_path in enumerate(img_list):\n",
    "    img = load_img(os.path.join(desert_path, img_path), target_size=(224, 224))\n",
    "    img = img_to_array(img)\n",
    "    img = img / 255.0\n",
    "    imgs[i] = img"
   ]
  },
  {
   "cell_type": "code",
   "execution_count": 12,
   "id": "2f2cc26b",
   "metadata": {},
   "outputs": [],
   "source": [
    "num_additional_imgs = 1500 - len(img_list)"
   ]
  },
  {
   "cell_type": "code",
   "execution_count": 13,
   "id": "83a722f0",
   "metadata": {},
   "outputs": [],
   "source": [
    "generated_imgs = []\n",
    "for i in range(num_additional_imgs):\n",
    "    # randomly transform an image from the desert folder\n",
    "    img = datagen.random_transform(imgs[np.random.randint(len(imgs))])\n",
    "    generated_imgs.append(img)"
   ]
  },
  {
   "cell_type": "code",
   "execution_count": 16,
   "id": "1223faaa",
   "metadata": {},
   "outputs": [],
   "source": [
    "for i, img in enumerate(generated_imgs):\n",
    "    img = array_to_img(img)\n",
    "    img.save(os.path.join(desert_path, f\"desert_augmented_{i}.jpg\"))"
   ]
  },
  {
   "cell_type": "code",
   "execution_count": null,
   "id": "df237f25",
   "metadata": {},
   "outputs": [],
   "source": []
  }
 ],
 "metadata": {
  "kernelspec": {
   "display_name": "Python 3 (ipykernel)",
   "language": "python",
   "name": "python3"
  },
  "language_info": {
   "codemirror_mode": {
    "name": "ipython",
    "version": 3
   },
   "file_extension": ".py",
   "mimetype": "text/x-python",
   "name": "python",
   "nbconvert_exporter": "python",
   "pygments_lexer": "ipython3",
   "version": "3.10.6"
  }
 },
 "nbformat": 4,
 "nbformat_minor": 5
}
